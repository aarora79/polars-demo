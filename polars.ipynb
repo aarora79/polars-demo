{
 "cells": [
  {
   "cell_type": "markdown",
   "id": "aefd0114-f246-461c-86d7-11e54552690b",
   "metadata": {},
   "source": [
    "# Data analysis with Polars\n",
    "**_Use of Polars to analyze the NYC taxi dataset and the Amazon Reviews dataset_**\n",
    "\n",
    "This notebook works well with the `conda_python3` kernel on a SageMaker Notebook `ml.t3.2xlarge` instance.\n",
    "\n",
    "---\n",
    "---\n",
    "\n",
    "## Contents\n",
    "\n",
    "1. [Objective](#Objective)\n",
    "1. [NYC Taxi dataset](#NYC-taxi-dataset)\n",
    "1. [Amazon Reviews dataset](#Amazon-reviews-dataset)\n",
    "1. [Conclusion](#Conclusion)"
   ]
  },
  {
   "cell_type": "markdown",
   "id": "3d6da583-92e6-456f-8987-c9c9325580b6",
   "metadata": {},
   "source": [
    "---\n",
    "\n",
    "## Objective\n",
    "\n",
    "1. Understand how to use Polars for the typical operations such as:\n",
    "    - Reading data from S3.\n",
    "    - Group by and compute aggregates.\n",
    "    - Combine multiple operations into an expression that is evaluate lazily.\n",
    "    - Use Polars for working with text fields in a dataframe.\n",
    "    \n",
    "1. Do a side by side comparison of Polars with Pandas 2.0.\n",
    "    "
   ]
  },
  {
   "cell_type": "markdown",
   "id": "c8b95c67-02d7-4c6a-9141-5445fb82a842",
   "metadata": {},
   "source": [
    "---\n",
    "\n",
    "## Setup\n",
    "\n",
    "Install the `pandas` 2.0 and polars packages that we will be using in this notebook."
   ]
  },
  {
   "cell_type": "code",
   "execution_count": 1,
   "id": "f588fa1a-c7a9-4f3c-922d-118753ee86cc",
   "metadata": {
    "tags": []
   },
   "outputs": [
    {
     "name": "stdout",
     "output_type": "stream",
     "text": [
      "Looking in indexes: https://pypi.org/simple, https://pip.repos.neuron.amazonaws.com\n",
      "Collecting polars==0.17.15\n",
      "  Downloading polars-0.17.15-cp37-abi3-manylinux_2_17_x86_64.manylinux2014_x86_64.whl (18.2 MB)\n",
      "\u001b[2K     \u001b[90m━━━━━━━━━━━━━━━━━━━━━━━━━━━━━━━━━━━━━━━━\u001b[0m \u001b[32m18.2/18.2 MB\u001b[0m \u001b[31m38.5 MB/s\u001b[0m eta \u001b[36m0:00:00\u001b[0m00:01\u001b[0m00:01\u001b[0m\n",
      "\u001b[?25hCollecting pandas==2.0.0\n",
      "  Downloading pandas-2.0.0-cp310-cp310-manylinux_2_17_x86_64.manylinux2014_x86_64.whl (12.3 MB)\n",
      "\u001b[2K     \u001b[90m━━━━━━━━━━━━━━━━━━━━━━━━━━━━━━━━━━━━━━━━\u001b[0m \u001b[32m12.3/12.3 MB\u001b[0m \u001b[31m59.0 MB/s\u001b[0m eta \u001b[36m0:00:00\u001b[0m00:01\u001b[0m00:01\u001b[0m\n",
      "\u001b[?25hCollecting pyarrow==12.0.0\n",
      "  Downloading pyarrow-12.0.0-cp310-cp310-manylinux_2_17_x86_64.manylinux2014_x86_64.whl (38.9 MB)\n",
      "\u001b[2K     \u001b[90m━━━━━━━━━━━━━━━━━━━━━━━━━━━━━━━━━━━━━━━━\u001b[0m \u001b[32m38.9/38.9 MB\u001b[0m \u001b[31m18.5 MB/s\u001b[0m eta \u001b[36m0:00:00\u001b[0m00:01\u001b[0m00:01\u001b[0m\n",
      "\u001b[?25hRequirement already satisfied: numpy>=1.21.0 in /home/ec2-user/anaconda3/envs/python3/lib/python3.10/site-packages (from pandas==2.0.0) (1.22.3)\n",
      "Requirement already satisfied: pytz>=2020.1 in /home/ec2-user/anaconda3/envs/python3/lib/python3.10/site-packages (from pandas==2.0.0) (2022.7)\n",
      "Collecting tzdata>=2022.1\n",
      "  Using cached tzdata-2023.3-py2.py3-none-any.whl (341 kB)\n",
      "Requirement already satisfied: python-dateutil>=2.8.2 in /home/ec2-user/anaconda3/envs/python3/lib/python3.10/site-packages (from pandas==2.0.0) (2.8.2)\n",
      "Requirement already satisfied: six>=1.5 in /home/ec2-user/anaconda3/envs/python3/lib/python3.10/site-packages (from python-dateutil>=2.8.2->pandas==2.0.0) (1.16.0)\n",
      "Installing collected packages: tzdata, pyarrow, polars, pandas\n",
      "  Attempting uninstall: pandas\n",
      "    Found existing installation: pandas 1.5.2\n",
      "    Uninstalling pandas-1.5.2:\n",
      "      Successfully uninstalled pandas-1.5.2\n",
      "\u001b[31mERROR: pip's dependency resolver does not currently take into account all the packages that are installed. This behaviour is the source of the following dependency conflicts.\n",
      "sparkmagic 0.20.3 requires nest-asyncio==1.5.5, but you have nest-asyncio 1.5.6 which is incompatible.\u001b[0m\u001b[31m\n",
      "\u001b[0mSuccessfully installed pandas-2.0.0 polars-0.17.15 pyarrow-12.0.0 tzdata-2023.3\n"
     ]
    }
   ],
   "source": [
    "!pip install polars==0.17.15  pandas==2.0.0 pyarrow==12.0.0"
   ]
  },
  {
   "cell_type": "code",
   "execution_count": 4,
   "id": "6a937e89-e296-48bb-98a1-6ec777ae7cf4",
   "metadata": {
    "tags": []
   },
   "outputs": [],
   "source": [
    "import pandas as pd\n",
    "import polars as pl"
   ]
  },
  {
   "cell_type": "code",
   "execution_count": 5,
   "id": "3f7540aa-99dc-40a6-b260-6f0538da7dbf",
   "metadata": {
    "tags": []
   },
   "outputs": [
    {
     "name": "stdout",
     "output_type": "stream",
     "text": [
      "pandas=2.0.0, polars=0.17.15\n"
     ]
    }
   ],
   "source": [
    "print(f\"pandas={pd.__version__}, polars={pl.__version__}\")"
   ]
  },
  {
   "cell_type": "markdown",
   "id": "d8fd35f9-eb3a-4d68-b690-1468020af7b2",
   "metadata": {},
   "source": [
    "---\n",
    "\n",
    "## NYC taxi dataset\n",
    "\n",
    "The NYC taxi data is available as public data in the `s3://nyc-tlc` bucket. We read this data in Pandas first and then in Polars and then do operations on this data in Pandas and Polars side by side to compare performance."
   ]
  },
  {
   "cell_type": "markdown",
   "id": "2f12f4f3-b050-4669-97a9-eaf9f3c4301c",
   "metadata": {},
   "source": [
    "### Read the data\n",
    "\n",
    "The data consists of ~40 million rows. **Polars is able to read data about 35% faster than Pandas**."
   ]
  },
  {
   "cell_type": "code",
   "execution_count": 6,
   "id": "a91f8a48-bb7e-4441-88dc-ea15ca7a8b27",
   "metadata": {
    "tags": []
   },
   "outputs": [
    {
     "name": "stdout",
     "output_type": "stream",
     "text": [
      "CPU times: user 22.4 s, sys: 11.7 s, total: 34 s\n",
      "Wall time: 20.7 s\n"
     ]
    }
   ],
   "source": [
    "%%time\n",
    "df_list = []\n",
    "for i in range(12):\n",
    "    df = pd.read_parquet(f\"s3://nyc-tlc/trip data/yellow_tripdata_2022-{i+1:02d}.parquet\")\n",
    "    df_list.append(df)\n",
    "df_pd = pd.concat(df_list)"
   ]
  },
  {
   "cell_type": "code",
   "execution_count": 7,
   "id": "c588d0de-b238-4fc6-800e-a8b1c653f2de",
   "metadata": {
    "tags": []
   },
   "outputs": [
    {
     "name": "stdout",
     "output_type": "stream",
     "text": [
      "df_pd shape=(39656098, 19)\n"
     ]
    },
    {
     "data": {
      "text/html": [
       "<div>\n",
       "<style scoped>\n",
       "    .dataframe tbody tr th:only-of-type {\n",
       "        vertical-align: middle;\n",
       "    }\n",
       "\n",
       "    .dataframe tbody tr th {\n",
       "        vertical-align: top;\n",
       "    }\n",
       "\n",
       "    .dataframe thead th {\n",
       "        text-align: right;\n",
       "    }\n",
       "</style>\n",
       "<table border=\"1\" class=\"dataframe\">\n",
       "  <thead>\n",
       "    <tr style=\"text-align: right;\">\n",
       "      <th></th>\n",
       "      <th>VendorID</th>\n",
       "      <th>tpep_pickup_datetime</th>\n",
       "      <th>tpep_dropoff_datetime</th>\n",
       "      <th>passenger_count</th>\n",
       "      <th>trip_distance</th>\n",
       "      <th>RatecodeID</th>\n",
       "      <th>store_and_fwd_flag</th>\n",
       "      <th>PULocationID</th>\n",
       "      <th>DOLocationID</th>\n",
       "      <th>payment_type</th>\n",
       "      <th>fare_amount</th>\n",
       "      <th>extra</th>\n",
       "      <th>mta_tax</th>\n",
       "      <th>tip_amount</th>\n",
       "      <th>tolls_amount</th>\n",
       "      <th>improvement_surcharge</th>\n",
       "      <th>total_amount</th>\n",
       "      <th>congestion_surcharge</th>\n",
       "      <th>airport_fee</th>\n",
       "    </tr>\n",
       "  </thead>\n",
       "  <tbody>\n",
       "    <tr>\n",
       "      <th>0</th>\n",
       "      <td>1</td>\n",
       "      <td>2022-01-01 00:35:40</td>\n",
       "      <td>2022-01-01 00:53:29</td>\n",
       "      <td>2.0</td>\n",
       "      <td>3.80</td>\n",
       "      <td>1.0</td>\n",
       "      <td>N</td>\n",
       "      <td>142</td>\n",
       "      <td>236</td>\n",
       "      <td>1</td>\n",
       "      <td>14.5</td>\n",
       "      <td>3.0</td>\n",
       "      <td>0.5</td>\n",
       "      <td>3.65</td>\n",
       "      <td>0.0</td>\n",
       "      <td>0.3</td>\n",
       "      <td>21.95</td>\n",
       "      <td>2.5</td>\n",
       "      <td>0.0</td>\n",
       "    </tr>\n",
       "    <tr>\n",
       "      <th>1</th>\n",
       "      <td>1</td>\n",
       "      <td>2022-01-01 00:33:43</td>\n",
       "      <td>2022-01-01 00:42:07</td>\n",
       "      <td>1.0</td>\n",
       "      <td>2.10</td>\n",
       "      <td>1.0</td>\n",
       "      <td>N</td>\n",
       "      <td>236</td>\n",
       "      <td>42</td>\n",
       "      <td>1</td>\n",
       "      <td>8.0</td>\n",
       "      <td>0.5</td>\n",
       "      <td>0.5</td>\n",
       "      <td>4.00</td>\n",
       "      <td>0.0</td>\n",
       "      <td>0.3</td>\n",
       "      <td>13.30</td>\n",
       "      <td>0.0</td>\n",
       "      <td>0.0</td>\n",
       "    </tr>\n",
       "    <tr>\n",
       "      <th>2</th>\n",
       "      <td>2</td>\n",
       "      <td>2022-01-01 00:53:21</td>\n",
       "      <td>2022-01-01 01:02:19</td>\n",
       "      <td>1.0</td>\n",
       "      <td>0.97</td>\n",
       "      <td>1.0</td>\n",
       "      <td>N</td>\n",
       "      <td>166</td>\n",
       "      <td>166</td>\n",
       "      <td>1</td>\n",
       "      <td>7.5</td>\n",
       "      <td>0.5</td>\n",
       "      <td>0.5</td>\n",
       "      <td>1.76</td>\n",
       "      <td>0.0</td>\n",
       "      <td>0.3</td>\n",
       "      <td>10.56</td>\n",
       "      <td>0.0</td>\n",
       "      <td>0.0</td>\n",
       "    </tr>\n",
       "    <tr>\n",
       "      <th>3</th>\n",
       "      <td>2</td>\n",
       "      <td>2022-01-01 00:25:21</td>\n",
       "      <td>2022-01-01 00:35:23</td>\n",
       "      <td>1.0</td>\n",
       "      <td>1.09</td>\n",
       "      <td>1.0</td>\n",
       "      <td>N</td>\n",
       "      <td>114</td>\n",
       "      <td>68</td>\n",
       "      <td>2</td>\n",
       "      <td>8.0</td>\n",
       "      <td>0.5</td>\n",
       "      <td>0.5</td>\n",
       "      <td>0.00</td>\n",
       "      <td>0.0</td>\n",
       "      <td>0.3</td>\n",
       "      <td>11.80</td>\n",
       "      <td>2.5</td>\n",
       "      <td>0.0</td>\n",
       "    </tr>\n",
       "    <tr>\n",
       "      <th>4</th>\n",
       "      <td>2</td>\n",
       "      <td>2022-01-01 00:36:48</td>\n",
       "      <td>2022-01-01 01:14:20</td>\n",
       "      <td>1.0</td>\n",
       "      <td>4.30</td>\n",
       "      <td>1.0</td>\n",
       "      <td>N</td>\n",
       "      <td>68</td>\n",
       "      <td>163</td>\n",
       "      <td>1</td>\n",
       "      <td>23.5</td>\n",
       "      <td>0.5</td>\n",
       "      <td>0.5</td>\n",
       "      <td>3.00</td>\n",
       "      <td>0.0</td>\n",
       "      <td>0.3</td>\n",
       "      <td>30.30</td>\n",
       "      <td>2.5</td>\n",
       "      <td>0.0</td>\n",
       "    </tr>\n",
       "  </tbody>\n",
       "</table>\n",
       "</div>"
      ],
      "text/plain": [
       "   VendorID tpep_pickup_datetime tpep_dropoff_datetime  passenger_count   \n",
       "0         1  2022-01-01 00:35:40   2022-01-01 00:53:29              2.0  \\\n",
       "1         1  2022-01-01 00:33:43   2022-01-01 00:42:07              1.0   \n",
       "2         2  2022-01-01 00:53:21   2022-01-01 01:02:19              1.0   \n",
       "3         2  2022-01-01 00:25:21   2022-01-01 00:35:23              1.0   \n",
       "4         2  2022-01-01 00:36:48   2022-01-01 01:14:20              1.0   \n",
       "\n",
       "   trip_distance  RatecodeID store_and_fwd_flag  PULocationID  DOLocationID   \n",
       "0           3.80         1.0                  N           142           236  \\\n",
       "1           2.10         1.0                  N           236            42   \n",
       "2           0.97         1.0                  N           166           166   \n",
       "3           1.09         1.0                  N           114            68   \n",
       "4           4.30         1.0                  N            68           163   \n",
       "\n",
       "   payment_type  fare_amount  extra  mta_tax  tip_amount  tolls_amount   \n",
       "0             1         14.5    3.0      0.5        3.65           0.0  \\\n",
       "1             1          8.0    0.5      0.5        4.00           0.0   \n",
       "2             1          7.5    0.5      0.5        1.76           0.0   \n",
       "3             2          8.0    0.5      0.5        0.00           0.0   \n",
       "4             1         23.5    0.5      0.5        3.00           0.0   \n",
       "\n",
       "   improvement_surcharge  total_amount  congestion_surcharge  airport_fee  \n",
       "0                    0.3         21.95                   2.5          0.0  \n",
       "1                    0.3         13.30                   0.0          0.0  \n",
       "2                    0.3         10.56                   0.0          0.0  \n",
       "3                    0.3         11.80                   2.5          0.0  \n",
       "4                    0.3         30.30                   2.5          0.0  "
      ]
     },
     "metadata": {},
     "output_type": "display_data"
    }
   ],
   "source": [
    "print(f\"df_pd shape={df_pd.shape}\")\n",
    "display(df_pd.head())"
   ]
  },
  {
   "cell_type": "code",
   "execution_count": 8,
   "id": "8ad98693-0069-47bd-b70e-b5e7ca8324e6",
   "metadata": {
    "tags": []
   },
   "outputs": [
    {
     "name": "stdout",
     "output_type": "stream",
     "text": [
      "CPU times: user 21.9 s, sys: 8.12 s, total: 30 s\n",
      "Wall time: 14.8 s\n"
     ]
    }
   ],
   "source": [
    "%%time\n",
    "df_list = []\n",
    "for i in range(12):\n",
    "    df = pl.read_parquet(f\"s3://nyc-tlc/trip data/yellow_tripdata_2022-{i+1:02d}.parquet\")\n",
    "    df_list.append(df)\n",
    "df_pl = pl.concat(df_list)"
   ]
  },
  {
   "cell_type": "code",
   "execution_count": 9,
   "id": "358a967f-8804-4ac1-bd1f-e544cde4ec38",
   "metadata": {
    "tags": []
   },
   "outputs": [
    {
     "name": "stdout",
     "output_type": "stream",
     "text": [
      "df_pl shape=39656098x19\n"
     ]
    },
    {
     "data": {
      "text/html": [
       "<div><style>\n",
       ".dataframe > thead > tr > th,\n",
       ".dataframe > tbody > tr > td {\n",
       "  text-align: right;\n",
       "}\n",
       "</style>\n",
       "<small>shape: (5, 19)</small><table border=\"1\" class=\"dataframe\"><thead><tr><th>VendorID</th><th>tpep_pickup_datetime</th><th>tpep_dropoff_datetime</th><th>passenger_count</th><th>trip_distance</th><th>RatecodeID</th><th>store_and_fwd_flag</th><th>PULocationID</th><th>DOLocationID</th><th>payment_type</th><th>fare_amount</th><th>extra</th><th>mta_tax</th><th>tip_amount</th><th>tolls_amount</th><th>improvement_surcharge</th><th>total_amount</th><th>congestion_surcharge</th><th>airport_fee</th></tr><tr><td>i64</td><td>datetime[ns]</td><td>datetime[ns]</td><td>f64</td><td>f64</td><td>f64</td><td>str</td><td>i64</td><td>i64</td><td>i64</td><td>f64</td><td>f64</td><td>f64</td><td>f64</td><td>f64</td><td>f64</td><td>f64</td><td>f64</td><td>f64</td></tr></thead><tbody><tr><td>1</td><td>2022-01-01 00:35:40</td><td>2022-01-01 00:53:29</td><td>2.0</td><td>3.8</td><td>1.0</td><td>&quot;N&quot;</td><td>142</td><td>236</td><td>1</td><td>14.5</td><td>3.0</td><td>0.5</td><td>3.65</td><td>0.0</td><td>0.3</td><td>21.95</td><td>2.5</td><td>0.0</td></tr><tr><td>1</td><td>2022-01-01 00:33:43</td><td>2022-01-01 00:42:07</td><td>1.0</td><td>2.1</td><td>1.0</td><td>&quot;N&quot;</td><td>236</td><td>42</td><td>1</td><td>8.0</td><td>0.5</td><td>0.5</td><td>4.0</td><td>0.0</td><td>0.3</td><td>13.3</td><td>0.0</td><td>0.0</td></tr><tr><td>2</td><td>2022-01-01 00:53:21</td><td>2022-01-01 01:02:19</td><td>1.0</td><td>0.97</td><td>1.0</td><td>&quot;N&quot;</td><td>166</td><td>166</td><td>1</td><td>7.5</td><td>0.5</td><td>0.5</td><td>1.76</td><td>0.0</td><td>0.3</td><td>10.56</td><td>0.0</td><td>0.0</td></tr><tr><td>2</td><td>2022-01-01 00:25:21</td><td>2022-01-01 00:35:23</td><td>1.0</td><td>1.09</td><td>1.0</td><td>&quot;N&quot;</td><td>114</td><td>68</td><td>2</td><td>8.0</td><td>0.5</td><td>0.5</td><td>0.0</td><td>0.0</td><td>0.3</td><td>11.8</td><td>2.5</td><td>0.0</td></tr><tr><td>2</td><td>2022-01-01 00:36:48</td><td>2022-01-01 01:14:20</td><td>1.0</td><td>4.3</td><td>1.0</td><td>&quot;N&quot;</td><td>68</td><td>163</td><td>1</td><td>23.5</td><td>0.5</td><td>0.5</td><td>3.0</td><td>0.0</td><td>0.3</td><td>30.3</td><td>2.5</td><td>0.0</td></tr></tbody></table></div>"
      ],
      "text/plain": [
       "shape: (5, 19)\n",
       "┌──────────┬────────────┬────────────┬────────────┬───┬────────────┬────────────┬────────────┬───────────┐\n",
       "│ VendorID ┆ tpep_picku ┆ tpep_dropo ┆ passenger_ ┆ … ┆ improvemen ┆ total_amou ┆ congestion ┆ airport_f │\n",
       "│ ---      ┆ p_datetime ┆ ff_datetim ┆ count      ┆   ┆ t_surcharg ┆ nt         ┆ _surcharge ┆ ee        │\n",
       "│ i64      ┆ ---        ┆ e          ┆ ---        ┆   ┆ e          ┆ ---        ┆ ---        ┆ ---       │\n",
       "│          ┆ datetime[n ┆ ---        ┆ f64        ┆   ┆ ---        ┆ f64        ┆ f64        ┆ f64       │\n",
       "│          ┆ s]         ┆ datetime[n ┆            ┆   ┆ f64        ┆            ┆            ┆           │\n",
       "│          ┆            ┆ s]         ┆            ┆   ┆            ┆            ┆            ┆           │\n",
       "╞══════════╪════════════╪════════════╪════════════╪═══╪════════════╪════════════╪════════════╪═══════════╡\n",
       "│ 1        ┆ 2022-01-01 ┆ 2022-01-01 ┆ 2.0        ┆ … ┆ 0.3        ┆ 21.95      ┆ 2.5        ┆ 0.0       │\n",
       "│          ┆ 00:35:40   ┆ 00:53:29   ┆            ┆   ┆            ┆            ┆            ┆           │\n",
       "│ 1        ┆ 2022-01-01 ┆ 2022-01-01 ┆ 1.0        ┆ … ┆ 0.3        ┆ 13.3       ┆ 0.0        ┆ 0.0       │\n",
       "│          ┆ 00:33:43   ┆ 00:42:07   ┆            ┆   ┆            ┆            ┆            ┆           │\n",
       "│ 2        ┆ 2022-01-01 ┆ 2022-01-01 ┆ 1.0        ┆ … ┆ 0.3        ┆ 10.56      ┆ 0.0        ┆ 0.0       │\n",
       "│          ┆ 00:53:21   ┆ 01:02:19   ┆            ┆   ┆            ┆            ┆            ┆           │\n",
       "│ 2        ┆ 2022-01-01 ┆ 2022-01-01 ┆ 1.0        ┆ … ┆ 0.3        ┆ 11.8       ┆ 2.5        ┆ 0.0       │\n",
       "│          ┆ 00:25:21   ┆ 00:35:23   ┆            ┆   ┆            ┆            ┆            ┆           │\n",
       "│ 2        ┆ 2022-01-01 ┆ 2022-01-01 ┆ 1.0        ┆ … ┆ 0.3        ┆ 30.3       ┆ 2.5        ┆ 0.0       │\n",
       "│          ┆ 00:36:48   ┆ 01:14:20   ┆            ┆   ┆            ┆            ┆            ┆           │\n",
       "└──────────┴────────────┴────────────┴────────────┴───┴────────────┴────────────┴────────────┴───────────┘"
      ]
     },
     "metadata": {},
     "output_type": "display_data"
    },
    {
     "name": "stdout",
     "output_type": "stream",
     "text": [
      "CPU times: user 5.48 ms, sys: 2.4 ms, total: 7.88 ms\n",
      "Wall time: 35.7 ms\n"
     ]
    }
   ],
   "source": [
    "%%time\n",
    "print(f\"df_pl shape={df_pl.select(pl.count())[0,0]}x{df_pl.width}\")\n",
    "display(df_pl.head())"
   ]
  },
  {
   "cell_type": "markdown",
   "id": "0abb244d-f3e0-4399-b920-6743e603ae2c",
   "metadata": {},
   "source": [
    "### Count and schema\n",
    "\n",
    "We convert the datafrmae in to a `LazyFrame` and run a count much like we would do it in a SQL select statement."
   ]
  },
  {
   "cell_type": "code",
   "execution_count": 10,
   "id": "e7703cd6-77bb-4e39-a248-4ee117bf279b",
   "metadata": {
    "tags": []
   },
   "outputs": [
    {
     "name": "stdout",
     "output_type": "stream",
     "text": [
      "CPU times: user 1.6 ms, sys: 338 µs, total: 1.94 ms\n",
      "Wall time: 3.03 ms\n"
     ]
    },
    {
     "data": {
      "text/html": [
       "<div><style>\n",
       ".dataframe > thead > tr > th,\n",
       ".dataframe > tbody > tr > td {\n",
       "  text-align: right;\n",
       "}\n",
       "</style>\n",
       "<small>shape: (1, 1)</small><table border=\"1\" class=\"dataframe\"><thead><tr><th>count</th></tr><tr><td>u32</td></tr></thead><tbody><tr><td>39656098</td></tr></tbody></table></div>"
      ],
      "text/plain": [
       "shape: (1, 1)\n",
       "┌──────────┐\n",
       "│ count    │\n",
       "│ ---      │\n",
       "│ u32      │\n",
       "╞══════════╡\n",
       "│ 39656098 │\n",
       "└──────────┘"
      ]
     },
     "execution_count": 10,
     "metadata": {},
     "output_type": "execute_result"
    }
   ],
   "source": [
    "%%time\n",
    "q = (\n",
    "        df_pl\n",
    "        .lazy()\n",
    "        .select(\n",
    "            pl.count()\n",
    "    )    \n",
    ")\n",
    "q.collect()"
   ]
  },
  {
   "cell_type": "code",
   "execution_count": 11,
   "id": "d48bb9d8-5e84-45ca-8bf1-40e6dde0b22d",
   "metadata": {
    "tags": []
   },
   "outputs": [
    {
     "data": {
      "text/plain": [
       "{'VendorID': Int64,\n",
       " 'tpep_pickup_datetime': Datetime(time_unit='ns', time_zone=None),\n",
       " 'tpep_dropoff_datetime': Datetime(time_unit='ns', time_zone=None),\n",
       " 'passenger_count': Float64,\n",
       " 'trip_distance': Float64,\n",
       " 'RatecodeID': Float64,\n",
       " 'store_and_fwd_flag': Utf8,\n",
       " 'PULocationID': Int64,\n",
       " 'DOLocationID': Int64,\n",
       " 'payment_type': Int64,\n",
       " 'fare_amount': Float64,\n",
       " 'extra': Float64,\n",
       " 'mta_tax': Float64,\n",
       " 'tip_amount': Float64,\n",
       " 'tolls_amount': Float64,\n",
       " 'improvement_surcharge': Float64,\n",
       " 'total_amount': Float64,\n",
       " 'congestion_surcharge': Float64,\n",
       " 'airport_fee': Float64}"
      ]
     },
     "execution_count": 11,
     "metadata": {},
     "output_type": "execute_result"
    }
   ],
   "source": [
    "df.schema"
   ]
  },
  {
   "cell_type": "markdown",
   "id": "12821311-5f1e-4af4-8969-10c9a4d3e406",
   "metadata": {},
   "source": [
    "### Group by and aggregate\n",
    "\n",
    "Again, **Polars is about 60% faster when doing a group by on two columns, count within the groups and then sort**."
   ]
  },
  {
   "cell_type": "code",
   "execution_count": 12,
   "id": "e691ff31-026a-4f59-b5d3-c25a9ced2658",
   "metadata": {
    "tags": []
   },
   "outputs": [
    {
     "name": "stdout",
     "output_type": "stream",
     "text": [
      "CPU times: user 1.47 s, sys: 607 ms, total: 2.08 s\n",
      "Wall time: 2.09 s\n"
     ]
    },
    {
     "data": {
      "text/html": [
       "<div>\n",
       "<style scoped>\n",
       "    .dataframe tbody tr th:only-of-type {\n",
       "        vertical-align: middle;\n",
       "    }\n",
       "\n",
       "    .dataframe tbody tr th {\n",
       "        vertical-align: top;\n",
       "    }\n",
       "\n",
       "    .dataframe thead th {\n",
       "        text-align: right;\n",
       "    }\n",
       "</style>\n",
       "<table border=\"1\" class=\"dataframe\">\n",
       "  <thead>\n",
       "    <tr style=\"text-align: right;\">\n",
       "      <th></th>\n",
       "      <th>PULocationID</th>\n",
       "      <th>DOLocationID</th>\n",
       "      <th>count</th>\n",
       "    </tr>\n",
       "  </thead>\n",
       "  <tbody>\n",
       "    <tr>\n",
       "      <th>0</th>\n",
       "      <td>237</td>\n",
       "      <td>236</td>\n",
       "      <td>258785</td>\n",
       "    </tr>\n",
       "    <tr>\n",
       "      <th>1</th>\n",
       "      <td>236</td>\n",
       "      <td>237</td>\n",
       "      <td>219336</td>\n",
       "    </tr>\n",
       "    <tr>\n",
       "      <th>2</th>\n",
       "      <td>264</td>\n",
       "      <td>264</td>\n",
       "      <td>202065</td>\n",
       "    </tr>\n",
       "    <tr>\n",
       "      <th>3</th>\n",
       "      <td>237</td>\n",
       "      <td>237</td>\n",
       "      <td>174651</td>\n",
       "    </tr>\n",
       "    <tr>\n",
       "      <th>4</th>\n",
       "      <td>236</td>\n",
       "      <td>236</td>\n",
       "      <td>166264</td>\n",
       "    </tr>\n",
       "    <tr>\n",
       "      <th>...</th>\n",
       "      <td>...</td>\n",
       "      <td>...</td>\n",
       "      <td>...</td>\n",
       "    </tr>\n",
       "    <tr>\n",
       "      <th>43896</th>\n",
       "      <td>119</td>\n",
       "      <td>195</td>\n",
       "      <td>1</td>\n",
       "    </tr>\n",
       "    <tr>\n",
       "      <th>43897</th>\n",
       "      <td>119</td>\n",
       "      <td>192</td>\n",
       "      <td>1</td>\n",
       "    </tr>\n",
       "    <tr>\n",
       "      <th>43898</th>\n",
       "      <td>119</td>\n",
       "      <td>188</td>\n",
       "      <td>1</td>\n",
       "    </tr>\n",
       "    <tr>\n",
       "      <th>43899</th>\n",
       "      <td>119</td>\n",
       "      <td>183</td>\n",
       "      <td>1</td>\n",
       "    </tr>\n",
       "    <tr>\n",
       "      <th>43900</th>\n",
       "      <td>11</td>\n",
       "      <td>38</td>\n",
       "      <td>1</td>\n",
       "    </tr>\n",
       "  </tbody>\n",
       "</table>\n",
       "<p>43901 rows × 3 columns</p>\n",
       "</div>"
      ],
      "text/plain": [
       "       PULocationID  DOLocationID   count\n",
       "0               237           236  258785\n",
       "1               236           237  219336\n",
       "2               264           264  202065\n",
       "3               237           237  174651\n",
       "4               236           236  166264\n",
       "...             ...           ...     ...\n",
       "43896           119           195       1\n",
       "43897           119           192       1\n",
       "43898           119           188       1\n",
       "43899           119           183       1\n",
       "43900            11            38       1\n",
       "\n",
       "[43901 rows x 3 columns]"
      ]
     },
     "execution_count": 12,
     "metadata": {},
     "output_type": "execute_result"
    }
   ],
   "source": [
    "%%time\n",
    "df_pd.groupby([\"PULocationID\", \"DOLocationID\"]).size().sort_values(ascending=False).reset_index(name='count')"
   ]
  },
  {
   "cell_type": "code",
   "execution_count": 13,
   "id": "7f23f8a8-9eb5-4d60-aee1-b46c318ef08a",
   "metadata": {
    "tags": []
   },
   "outputs": [
    {
     "name": "stdout",
     "output_type": "stream",
     "text": [
      "CPU times: user 3.78 s, sys: 359 ms, total: 4.14 s\n",
      "Wall time: 676 ms\n"
     ]
    },
    {
     "data": {
      "text/html": [
       "<div><style>\n",
       ".dataframe > thead > tr > th,\n",
       ".dataframe > tbody > tr > td {\n",
       "  text-align: right;\n",
       "}\n",
       "</style>\n",
       "<small>shape: (43_901, 3)</small><table border=\"1\" class=\"dataframe\"><thead><tr><th>PULocationID</th><th>DOLocationID</th><th>count</th></tr><tr><td>i64</td><td>i64</td><td>u32</td></tr></thead><tbody><tr><td>237</td><td>236</td><td>258785</td></tr><tr><td>236</td><td>237</td><td>219336</td></tr><tr><td>264</td><td>264</td><td>202065</td></tr><tr><td>237</td><td>237</td><td>174651</td></tr><tr><td>236</td><td>236</td><td>166264</td></tr><tr><td>237</td><td>161</td><td>113630</td></tr><tr><td>161</td><td>237</td><td>103160</td></tr><tr><td>132</td><td>132</td><td>101095</td></tr><tr><td>142</td><td>239</td><td>98503</td></tr><tr><td>239</td><td>142</td><td>97341</td></tr><tr><td>239</td><td>238</td><td>94017</td></tr><tr><td>161</td><td>236</td><td>92099</td></tr><tr><td>&hellip;</td><td>&hellip;</td><td>&hellip;</td></tr><tr><td>152</td><td>73</td><td>1</td></tr><tr><td>134</td><td>228</td><td>1</td></tr><tr><td>85</td><td>98</td><td>1</td></tr><tr><td>241</td><td>165</td><td>1</td></tr><tr><td>242</td><td>82</td><td>1</td></tr><tr><td>16</td><td>125</td><td>1</td></tr><tr><td>227</td><td>258</td><td>1</td></tr><tr><td>262</td><td>84</td><td>1</td></tr><tr><td>68</td><td>2</td><td>1</td></tr><tr><td>89</td><td>118</td><td>1</td></tr><tr><td>69</td><td>194</td><td>1</td></tr><tr><td>196</td><td>126</td><td>1</td></tr></tbody></table></div>"
      ],
      "text/plain": [
       "shape: (43_901, 3)\n",
       "┌──────────────┬──────────────┬────────┐\n",
       "│ PULocationID ┆ DOLocationID ┆ count  │\n",
       "│ ---          ┆ ---          ┆ ---    │\n",
       "│ i64          ┆ i64          ┆ u32    │\n",
       "╞══════════════╪══════════════╪════════╡\n",
       "│ 237          ┆ 236          ┆ 258785 │\n",
       "│ 236          ┆ 237          ┆ 219336 │\n",
       "│ 264          ┆ 264          ┆ 202065 │\n",
       "│ 237          ┆ 237          ┆ 174651 │\n",
       "│ …            ┆ …            ┆ …      │\n",
       "│ 68           ┆ 2            ┆ 1      │\n",
       "│ 89           ┆ 118          ┆ 1      │\n",
       "│ 69           ┆ 194          ┆ 1      │\n",
       "│ 196          ┆ 126          ┆ 1      │\n",
       "└──────────────┴──────────────┴────────┘"
      ]
     },
     "execution_count": 13,
     "metadata": {},
     "output_type": "execute_result"
    }
   ],
   "source": [
    "%%time\n",
    "\n",
    "q = (\n",
    "        df_pl\n",
    "        .lazy()\n",
    "        .groupby([\"PULocationID\", \"DOLocationID\"])\n",
    "        .agg(\n",
    "        [\n",
    "            pl.count()\n",
    "        ]\n",
    "    )\n",
    "    .sort([\"count\"], descending=True)\n",
    ")\n",
    "q.collect()"
   ]
  },
  {
   "cell_type": "markdown",
   "id": "c3a9b1e4-eeb6-49a4-83d7-771b091762af",
   "metadata": {
    "tags": []
   },
   "source": [
    "### Combine multiple operations in a single expression\n",
    "\n",
    "This allows Polars to run the query optimizer and really provide the benefits in terms of reduced execution time. Plus the Polars code is more expressive code, somewhat similar to `tidyverse` in R. \n",
    "\n",
    "The Pandas operations, even though vectorized, still need to be done one after the other and cannot be combined into a pipeline.\n",
    "\n",
    "***The Polars version of the following code about 5 to 6 times faster than Pandas code!!!***"
   ]
  },
  {
   "cell_type": "code",
   "execution_count": 14,
   "id": "043279d5-329f-40e5-9d4f-aa1605995745",
   "metadata": {
    "tags": []
   },
   "outputs": [
    {
     "name": "stdout",
     "output_type": "stream",
     "text": [
      "CPU times: user 9.14 s, sys: 162 ms, total: 9.3 s\n",
      "Wall time: 9.3 s\n"
     ]
    }
   ],
   "source": [
    "%%time\n",
    "df_pd['tpep_pickup_datetime_year'] = df_pd.tpep_pickup_datetime.dt.year\n",
    "df_pd['tpep_pickup_datetime_month'] = df_pd.tpep_pickup_datetime.dt.month\n",
    "df_pd['tpep_pickup_datetime_day'] = df_pd.tpep_pickup_datetime.dt.day"
   ]
  },
  {
   "cell_type": "code",
   "execution_count": 15,
   "id": "8564ceab-d74d-4731-a4a4-65bbefaaeaab",
   "metadata": {
    "tags": []
   },
   "outputs": [
    {
     "name": "stdout",
     "output_type": "stream",
     "text": [
      "CPU times: user 2.7 s, sys: 1.46 s, total: 4.16 s\n",
      "Wall time: 4.06 s\n"
     ]
    }
   ],
   "source": [
    "%%time\n",
    "df_pd = df_pd[df_pd.tpep_pickup_datetime_year == 2022]"
   ]
  },
  {
   "cell_type": "code",
   "execution_count": 16,
   "id": "31faa5cc-9809-4777-915d-c9b0e008e8bf",
   "metadata": {
    "tags": []
   },
   "outputs": [
    {
     "name": "stdout",
     "output_type": "stream",
     "text": [
      "CPU times: user 3.38 s, sys: 758 ms, total: 4.14 s\n",
      "Wall time: 4.14 s\n"
     ]
    },
    {
     "data": {
      "text/html": [
       "<div>\n",
       "<style scoped>\n",
       "    .dataframe tbody tr th:only-of-type {\n",
       "        vertical-align: middle;\n",
       "    }\n",
       "\n",
       "    .dataframe tbody tr th {\n",
       "        vertical-align: top;\n",
       "    }\n",
       "\n",
       "    .dataframe thead th {\n",
       "        text-align: right;\n",
       "    }\n",
       "</style>\n",
       "<table border=\"1\" class=\"dataframe\">\n",
       "  <thead>\n",
       "    <tr style=\"text-align: right;\">\n",
       "      <th></th>\n",
       "      <th>tpep_pickup_datetime_year</th>\n",
       "      <th>tpep_pickup_datetime_month</th>\n",
       "      <th>tpep_pickup_datetime_day</th>\n",
       "      <th>count</th>\n",
       "      <th>trip_distance</th>\n",
       "      <th>fare_amount</th>\n",
       "      <th>mta_tax</th>\n",
       "      <th>tip_amount</th>\n",
       "      <th>passenger_count</th>\n",
       "      <th>total_amount</th>\n",
       "    </tr>\n",
       "  </thead>\n",
       "  <tbody>\n",
       "    <tr>\n",
       "      <th>0</th>\n",
       "      <td>2022</td>\n",
       "      <td>12</td>\n",
       "      <td>31</td>\n",
       "      <td>85075</td>\n",
       "      <td>5.496663</td>\n",
       "      <td>18.808202</td>\n",
       "      <td>0.484683</td>\n",
       "      <td>3.162040</td>\n",
       "      <td>1.522136</td>\n",
       "      <td>26.715433</td>\n",
       "    </tr>\n",
       "    <tr>\n",
       "      <th>1</th>\n",
       "      <td>2022</td>\n",
       "      <td>12</td>\n",
       "      <td>30</td>\n",
       "      <td>92429</td>\n",
       "      <td>3.934692</td>\n",
       "      <td>20.768060</td>\n",
       "      <td>0.484105</td>\n",
       "      <td>3.461874</td>\n",
       "      <td>1.507088</td>\n",
       "      <td>29.836820</td>\n",
       "    </tr>\n",
       "    <tr>\n",
       "      <th>2</th>\n",
       "      <td>2022</td>\n",
       "      <td>12</td>\n",
       "      <td>29</td>\n",
       "      <td>93498</td>\n",
       "      <td>3.791165</td>\n",
       "      <td>20.579808</td>\n",
       "      <td>0.486399</td>\n",
       "      <td>3.429100</td>\n",
       "      <td>1.514585</td>\n",
       "      <td>29.533789</td>\n",
       "    </tr>\n",
       "    <tr>\n",
       "      <th>3</th>\n",
       "      <td>2022</td>\n",
       "      <td>12</td>\n",
       "      <td>28</td>\n",
       "      <td>89065</td>\n",
       "      <td>4.193342</td>\n",
       "      <td>20.609701</td>\n",
       "      <td>0.487004</td>\n",
       "      <td>3.428778</td>\n",
       "      <td>1.510301</td>\n",
       "      <td>29.564857</td>\n",
       "    </tr>\n",
       "    <tr>\n",
       "      <th>4</th>\n",
       "      <td>2022</td>\n",
       "      <td>12</td>\n",
       "      <td>27</td>\n",
       "      <td>86290</td>\n",
       "      <td>4.205887</td>\n",
       "      <td>20.883973</td>\n",
       "      <td>0.485821</td>\n",
       "      <td>3.418239</td>\n",
       "      <td>1.514512</td>\n",
       "      <td>29.909588</td>\n",
       "    </tr>\n",
       "    <tr>\n",
       "      <th>...</th>\n",
       "      <td>...</td>\n",
       "      <td>...</td>\n",
       "      <td>...</td>\n",
       "      <td>...</td>\n",
       "      <td>...</td>\n",
       "      <td>...</td>\n",
       "      <td>...</td>\n",
       "      <td>...</td>\n",
       "      <td>...</td>\n",
       "      <td>...</td>\n",
       "    </tr>\n",
       "    <tr>\n",
       "      <th>360</th>\n",
       "      <td>2022</td>\n",
       "      <td>1</td>\n",
       "      <td>5</td>\n",
       "      <td>74592</td>\n",
       "      <td>5.916514</td>\n",
       "      <td>13.105423</td>\n",
       "      <td>0.491286</td>\n",
       "      <td>2.318954</td>\n",
       "      <td>1.372645</td>\n",
       "      <td>19.345578</td>\n",
       "    </tr>\n",
       "    <tr>\n",
       "      <th>361</th>\n",
       "      <td>2022</td>\n",
       "      <td>1</td>\n",
       "      <td>4</td>\n",
       "      <td>74562</td>\n",
       "      <td>3.472559</td>\n",
       "      <td>13.474487</td>\n",
       "      <td>0.490814</td>\n",
       "      <td>2.357847</td>\n",
       "      <td>1.384201</td>\n",
       "      <td>19.797229</td>\n",
       "    </tr>\n",
       "    <tr>\n",
       "      <th>362</th>\n",
       "      <td>2022</td>\n",
       "      <td>1</td>\n",
       "      <td>3</td>\n",
       "      <td>72405</td>\n",
       "      <td>7.703310</td>\n",
       "      <td>14.345576</td>\n",
       "      <td>0.488986</td>\n",
       "      <td>2.486244</td>\n",
       "      <td>1.408575</td>\n",
       "      <td>20.908380</td>\n",
       "    </tr>\n",
       "    <tr>\n",
       "      <th>363</th>\n",
       "      <td>2022</td>\n",
       "      <td>1</td>\n",
       "      <td>2</td>\n",
       "      <td>58421</td>\n",
       "      <td>6.210313</td>\n",
       "      <td>16.001280</td>\n",
       "      <td>0.486851</td>\n",
       "      <td>2.765876</td>\n",
       "      <td>1.501177</td>\n",
       "      <td>22.756311</td>\n",
       "    </tr>\n",
       "    <tr>\n",
       "      <th>364</th>\n",
       "      <td>2022</td>\n",
       "      <td>1</td>\n",
       "      <td>1</td>\n",
       "      <td>63441</td>\n",
       "      <td>5.936210</td>\n",
       "      <td>14.616984</td>\n",
       "      <td>0.486420</td>\n",
       "      <td>2.519819</td>\n",
       "      <td>1.571701</td>\n",
       "      <td>20.974422</td>\n",
       "    </tr>\n",
       "  </tbody>\n",
       "</table>\n",
       "<p>365 rows × 10 columns</p>\n",
       "</div>"
      ],
      "text/plain": [
       "     tpep_pickup_datetime_year  tpep_pickup_datetime_month   \n",
       "0                         2022                          12  \\\n",
       "1                         2022                          12   \n",
       "2                         2022                          12   \n",
       "3                         2022                          12   \n",
       "4                         2022                          12   \n",
       "..                         ...                         ...   \n",
       "360                       2022                           1   \n",
       "361                       2022                           1   \n",
       "362                       2022                           1   \n",
       "363                       2022                           1   \n",
       "364                       2022                           1   \n",
       "\n",
       "     tpep_pickup_datetime_day  count  trip_distance  fare_amount   mta_tax   \n",
       "0                          31  85075       5.496663    18.808202  0.484683  \\\n",
       "1                          30  92429       3.934692    20.768060  0.484105   \n",
       "2                          29  93498       3.791165    20.579808  0.486399   \n",
       "3                          28  89065       4.193342    20.609701  0.487004   \n",
       "4                          27  86290       4.205887    20.883973  0.485821   \n",
       "..                        ...    ...            ...          ...       ...   \n",
       "360                         5  74592       5.916514    13.105423  0.491286   \n",
       "361                         4  74562       3.472559    13.474487  0.490814   \n",
       "362                         3  72405       7.703310    14.345576  0.488986   \n",
       "363                         2  58421       6.210313    16.001280  0.486851   \n",
       "364                         1  63441       5.936210    14.616984  0.486420   \n",
       "\n",
       "     tip_amount  passenger_count  total_amount  \n",
       "0      3.162040         1.522136     26.715433  \n",
       "1      3.461874         1.507088     29.836820  \n",
       "2      3.429100         1.514585     29.533789  \n",
       "3      3.428778         1.510301     29.564857  \n",
       "4      3.418239         1.514512     29.909588  \n",
       "..          ...              ...           ...  \n",
       "360    2.318954         1.372645     19.345578  \n",
       "361    2.357847         1.384201     19.797229  \n",
       "362    2.486244         1.408575     20.908380  \n",
       "363    2.765876         1.501177     22.756311  \n",
       "364    2.519819         1.571701     20.974422  \n",
       "\n",
       "[365 rows x 10 columns]"
      ]
     },
     "execution_count": 16,
     "metadata": {},
     "output_type": "execute_result"
    }
   ],
   "source": [
    "%%time\n",
    "df_pd_grouped_stats = df_pd.groupby([\"tpep_pickup_datetime_year\", \"tpep_pickup_datetime_month\", \"tpep_pickup_datetime_day\"]) \\\n",
    "                           .aggregate({'airport_fee': 'size', 'trip_distance': 'mean', 'fare_amount': 'mean',\n",
    "                                       'mta_tax': 'mean', 'tip_amount': 'mean',\n",
    "                                       'passenger_count': 'mean', 'total_amount': 'mean'}) \\\n",
    "                           .rename({'airport_fee': 'count'}, axis=1) \\\n",
    "                           .sort_values(by=[\"tpep_pickup_datetime_year\", \"tpep_pickup_datetime_month\", \"tpep_pickup_datetime_day\"], ascending=False) \\\n",
    "                           .reset_index()\n",
    "df_pd_grouped_stats"
   ]
  },
  {
   "cell_type": "code",
   "execution_count": 17,
   "id": "efbb882b-00b0-4a22-bc86-3c811018bb97",
   "metadata": {
    "tags": []
   },
   "outputs": [
    {
     "name": "stdout",
     "output_type": "stream",
     "text": [
      "CPU times: user 4.73 s, sys: 2.04 s, total: 6.78 s\n",
      "Wall time: 3.22 s\n"
     ]
    },
    {
     "data": {
      "text/html": [
       "<div><style>\n",
       ".dataframe > thead > tr > th,\n",
       ".dataframe > tbody > tr > td {\n",
       "  text-align: right;\n",
       "}\n",
       "</style>\n",
       "<small>shape: (365, 10)</small><table border=\"1\" class=\"dataframe\"><thead><tr><th>tpep_pickup_datetime_year</th><th>tpep_pickup_datetime_month</th><th>tpep_pickup_datetime_day</th><th>count</th><th>mean_trip_distance</th><th>mean_fare_amount</th><th>mean_mta_tax</th><th>mean_tip_amount</th><th>mean_passenger_count</th><th>mean_total_amount</th></tr><tr><td>i32</td><td>u32</td><td>u32</td><td>u32</td><td>f64</td><td>f64</td><td>f64</td><td>f64</td><td>f64</td><td>f64</td></tr></thead><tbody><tr><td>2022</td><td>12</td><td>31</td><td>85075</td><td>5.496663</td><td>18.808202</td><td>0.484683</td><td>3.16204</td><td>1.522136</td><td>26.715433</td></tr><tr><td>2022</td><td>12</td><td>30</td><td>92429</td><td>3.934692</td><td>20.76806</td><td>0.484105</td><td>3.461874</td><td>1.507088</td><td>29.83682</td></tr><tr><td>2022</td><td>12</td><td>29</td><td>93498</td><td>3.791165</td><td>20.579808</td><td>0.486399</td><td>3.4291</td><td>1.514585</td><td>29.533789</td></tr><tr><td>2022</td><td>12</td><td>28</td><td>89065</td><td>4.193342</td><td>20.609701</td><td>0.487004</td><td>3.428778</td><td>1.510301</td><td>29.564857</td></tr><tr><td>2022</td><td>12</td><td>27</td><td>86290</td><td>4.205887</td><td>20.883973</td><td>0.485821</td><td>3.418239</td><td>1.514512</td><td>29.909588</td></tr><tr><td>2022</td><td>12</td><td>26</td><td>67459</td><td>4.130195</td><td>21.092792</td><td>0.483694</td><td>3.341734</td><td>1.564689</td><td>29.594587</td></tr><tr><td>2022</td><td>12</td><td>25</td><td>50109</td><td>4.138615</td><td>20.571393</td><td>0.481532</td><td>3.150251</td><td>1.55646</td><td>28.624608</td></tr><tr><td>2022</td><td>12</td><td>24</td><td>75519</td><td>3.329849</td><td>17.61407</td><td>0.483615</td><td>2.835761</td><td>1.514524</td><td>25.025802</td></tr><tr><td>2022</td><td>12</td><td>23</td><td>95028</td><td>3.455618</td><td>18.478721</td><td>0.485021</td><td>3.123522</td><td>1.449239</td><td>26.942867</td></tr><tr><td>2022</td><td>12</td><td>22</td><td>102850</td><td>3.650806</td><td>19.602475</td><td>0.486007</td><td>3.374415</td><td>1.414972</td><td>28.40313</td></tr><tr><td>2022</td><td>12</td><td>21</td><td>113560</td><td>5.16758</td><td>19.573758</td><td>0.487436</td><td>3.466525</td><td>1.40035</td><td>28.507353</td></tr><tr><td>2022</td><td>12</td><td>20</td><td>116021</td><td>3.356491</td><td>19.021529</td><td>0.488751</td><td>3.385662</td><td>1.395455</td><td>27.806331</td></tr><tr><td>&hellip;</td><td>&hellip;</td><td>&hellip;</td><td>&hellip;</td><td>&hellip;</td><td>&hellip;</td><td>&hellip;</td><td>&hellip;</td><td>&hellip;</td><td>&hellip;</td></tr><tr><td>2022</td><td>1</td><td>12</td><td>80352</td><td>2.865512</td><td>12.120136</td><td>0.49178</td><td>2.26817</td><td>1.341665</td><td>18.218084</td></tr><tr><td>2022</td><td>1</td><td>11</td><td>77603</td><td>8.127846</td><td>11.950318</td><td>0.492333</td><td>2.219711</td><td>1.33845</td><td>17.982996</td></tr><tr><td>2022</td><td>1</td><td>10</td><td>73692</td><td>4.768644</td><td>12.674287</td><td>0.491573</td><td>2.279506</td><td>1.344095</td><td>18.824624</td></tr><tr><td>2022</td><td>1</td><td>9</td><td>64014</td><td>5.85776</td><td>13.691379</td><td>0.48983</td><td>2.543867</td><td>1.453034</td><td>20.019697</td></tr><tr><td>2022</td><td>1</td><td>8</td><td>83177</td><td>3.147446</td><td>12.500518</td><td>0.491686</td><td>2.365159</td><td>1.473389</td><td>18.50229</td></tr><tr><td>2022</td><td>1</td><td>7</td><td>71590</td><td>3.026878</td><td>17.718862</td><td>0.491486</td><td>2.271626</td><td>1.408031</td><td>23.916995</td></tr><tr><td>2022</td><td>1</td><td>6</td><td>79909</td><td>5.045711</td><td>12.481565</td><td>0.491444</td><td>2.269874</td><td>1.376209</td><td>18.642057</td></tr><tr><td>2022</td><td>1</td><td>5</td><td>74592</td><td>5.916514</td><td>13.105423</td><td>0.491286</td><td>2.318954</td><td>1.372645</td><td>19.345578</td></tr><tr><td>2022</td><td>1</td><td>4</td><td>74562</td><td>3.472559</td><td>13.474487</td><td>0.490814</td><td>2.357847</td><td>1.384201</td><td>19.797229</td></tr><tr><td>2022</td><td>1</td><td>3</td><td>72405</td><td>7.70331</td><td>14.345576</td><td>0.488986</td><td>2.486244</td><td>1.408575</td><td>20.90838</td></tr><tr><td>2022</td><td>1</td><td>2</td><td>58421</td><td>6.210313</td><td>16.00128</td><td>0.486851</td><td>2.765876</td><td>1.501177</td><td>22.756311</td></tr><tr><td>2022</td><td>1</td><td>1</td><td>63441</td><td>5.93621</td><td>14.616984</td><td>0.48642</td><td>2.519819</td><td>1.571701</td><td>20.974422</td></tr></tbody></table></div>"
      ],
      "text/plain": [
       "shape: (365, 10)\n",
       "┌────────────┬────────────┬────────────┬───────┬───┬────────────┬────────────┬────────────┬────────────┐\n",
       "│ tpep_picku ┆ tpep_picku ┆ tpep_picku ┆ count ┆ … ┆ mean_mta_t ┆ mean_tip_a ┆ mean_passe ┆ mean_total │\n",
       "│ p_datetime ┆ p_datetime ┆ p_datetime ┆ ---   ┆   ┆ ax         ┆ mount      ┆ nger_count ┆ _amount    │\n",
       "│ _year      ┆ _month     ┆ _day       ┆ u32   ┆   ┆ ---        ┆ ---        ┆ ---        ┆ ---        │\n",
       "│ ---        ┆ ---        ┆ ---        ┆       ┆   ┆ f64        ┆ f64        ┆ f64        ┆ f64        │\n",
       "│ i32        ┆ u32        ┆ u32        ┆       ┆   ┆            ┆            ┆            ┆            │\n",
       "╞════════════╪════════════╪════════════╪═══════╪═══╪════════════╪════════════╪════════════╪════════════╡\n",
       "│ 2022       ┆ 12         ┆ 31         ┆ 85075 ┆ … ┆ 0.484683   ┆ 3.16204    ┆ 1.522136   ┆ 26.715433  │\n",
       "│ 2022       ┆ 12         ┆ 30         ┆ 92429 ┆ … ┆ 0.484105   ┆ 3.461874   ┆ 1.507088   ┆ 29.83682   │\n",
       "│ 2022       ┆ 12         ┆ 29         ┆ 93498 ┆ … ┆ 0.486399   ┆ 3.4291     ┆ 1.514585   ┆ 29.533789  │\n",
       "│ 2022       ┆ 12         ┆ 28         ┆ 89065 ┆ … ┆ 0.487004   ┆ 3.428778   ┆ 1.510301   ┆ 29.564857  │\n",
       "│ …          ┆ …          ┆ …          ┆ …     ┆ … ┆ …          ┆ …          ┆ …          ┆ …          │\n",
       "│ 2022       ┆ 1          ┆ 4          ┆ 74562 ┆ … ┆ 0.490814   ┆ 2.357847   ┆ 1.384201   ┆ 19.797229  │\n",
       "│ 2022       ┆ 1          ┆ 3          ┆ 72405 ┆ … ┆ 0.488986   ┆ 2.486244   ┆ 1.408575   ┆ 20.90838   │\n",
       "│ 2022       ┆ 1          ┆ 2          ┆ 58421 ┆ … ┆ 0.486851   ┆ 2.765876   ┆ 1.501177   ┆ 22.756311  │\n",
       "│ 2022       ┆ 1          ┆ 1          ┆ 63441 ┆ … ┆ 0.48642    ┆ 2.519819   ┆ 1.571701   ┆ 20.974422  │\n",
       "└────────────┴────────────┴────────────┴───────┴───┴────────────┴────────────┴────────────┴────────────┘"
      ]
     },
     "execution_count": 17,
     "metadata": {},
     "output_type": "execute_result"
    }
   ],
   "source": [
    "%%time\n",
    "q = (\n",
    "        df_pl\n",
    "        .lazy()\n",
    "        .with_columns(pl.col(\"tpep_pickup_datetime\").dt.year().suffix(\"_year\"))\n",
    "        .with_columns(pl.col(\"tpep_pickup_datetime\").dt.month().suffix(\"_month\"))\n",
    "        .with_columns(pl.col(\"tpep_pickup_datetime\").dt.day().alias(\"tpep_pickup_datetime_day\"))\n",
    "        .filter(pl.col(\"tpep_pickup_datetime_year\") == 2022)\n",
    "        .groupby([\"tpep_pickup_datetime_year\", \"tpep_pickup_datetime_month\", \"tpep_pickup_datetime_day\"])\n",
    "        .agg(\n",
    "        [\n",
    "            pl.count(),\n",
    "            pl.col(\"trip_distance\").mean().prefix(\"mean_\"),\n",
    "            pl.col(\"fare_amount\").mean().prefix(\"mean_\"),\n",
    "            pl.col(\"mta_tax\").mean().prefix(\"mean_\"),\n",
    "            pl.col(\"tip_amount\").mean().prefix(\"mean_\"),\n",
    "            pl.col(\"passenger_count\").mean().prefix(\"mean_\"),\n",
    "            pl.col(\"total_amount\").mean().prefix(\"mean_\"),\n",
    "        ]\n",
    "    )\n",
    "    .sort([\"tpep_pickup_datetime_year\", \"tpep_pickup_datetime_month\", \"tpep_pickup_datetime_day\"], descending=True)\n",
    ")\n",
    "df_pl_grouped_stats = q.collect()\n",
    "df_pl_grouped_stats"
   ]
  },
  {
   "cell_type": "markdown",
   "id": "2a168097-9635-4568-99cc-278b5483fdb7",
   "metadata": {
    "tags": []
   },
   "source": [
    "---\n",
    "\n",
    "## Amazon reviews dataset\n"
   ]
  },
  {
   "cell_type": "code",
   "execution_count": 18,
   "id": "074b17ac-736b-4a67-a8ba-935269911676",
   "metadata": {
    "tags": []
   },
   "outputs": [
    {
     "name": "stdout",
     "output_type": "stream",
     "text": [
      "2018-04-09 06:35:58 1094842361 part-00000-495c48e6-96d6-4650-aa65-3c36a3516ddd.c000.snappy.parquet\n",
      "2018-04-09 06:35:59 1093295804 part-00001-495c48e6-96d6-4650-aa65-3c36a3516ddd.c000.snappy.parquet\n",
      "2018-04-09 06:36:00 1095643518 part-00002-495c48e6-96d6-4650-aa65-3c36a3516ddd.c000.snappy.parquet\n",
      "2018-04-09 06:36:00 1095218865 part-00003-495c48e6-96d6-4650-aa65-3c36a3516ddd.c000.snappy.parquet\n",
      "2018-04-09 06:36:00 1094787237 part-00004-495c48e6-96d6-4650-aa65-3c36a3516ddd.c000.snappy.parquet\n",
      "2018-04-09 06:36:33 1094302491 part-00005-495c48e6-96d6-4650-aa65-3c36a3516ddd.c000.snappy.parquet\n",
      "2018-04-09 06:36:35 1094565655 part-00006-495c48e6-96d6-4650-aa65-3c36a3516ddd.c000.snappy.parquet\n",
      "2018-04-09 06:36:35 1095288096 part-00007-495c48e6-96d6-4650-aa65-3c36a3516ddd.c000.snappy.parquet\n",
      "2018-04-09 06:36:35 1092058864 part-00008-495c48e6-96d6-4650-aa65-3c36a3516ddd.c000.snappy.parquet\n",
      "2018-04-09 06:36:35 1093613569 part-00009-495c48e6-96d6-4650-aa65-3c36a3516ddd.c000.snappy.parquet\n"
     ]
    }
   ],
   "source": [
    "!aws s3 ls s3://amazon-reviews-pds/parquet/product_category=Books/"
   ]
  },
  {
   "cell_type": "code",
   "execution_count": 20,
   "id": "2e42e8a7-c8b3-457b-89ea-23a2c33c4f7a",
   "metadata": {
    "tags": []
   },
   "outputs": [
    {
     "name": "stderr",
     "output_type": "stream",
     "text": [
      "[nltk_data] Downloading package stopwords to\n",
      "[nltk_data]     /home/ec2-user/nltk_data...\n",
      "[nltk_data]   Unzipping corpora/stopwords.zip.\n"
     ]
    },
    {
     "data": {
      "text/plain": [
       "['i', 'me', 'my', 'myself', 'we', 'our', 'ours', 'ourselves', 'you', \"you're\"]"
      ]
     },
     "execution_count": 20,
     "metadata": {},
     "output_type": "execute_result"
    }
   ],
   "source": [
    "import nltk\n",
    "nltk.download('stopwords')\n",
    "stopwords = nltk.corpus.stopwords.words('english')\n",
    "stopwords.append([\"&\", \"\\\"\\\"\"])\n",
    "stopwords[:10]"
   ]
  },
  {
   "cell_type": "markdown",
   "id": "4b10788b-387f-47c9-a680-0300be4c7953",
   "metadata": {
    "tags": []
   },
   "source": [
    "This is a huge dataset for a `t3.2xlarge` intance so we will just read one file."
   ]
  },
  {
   "cell_type": "code",
   "execution_count": 22,
   "id": "911716e2-8d1f-476f-81bd-04de38f10e9d",
   "metadata": {
    "tags": []
   },
   "outputs": [
    {
     "name": "stdout",
     "output_type": "stream",
     "text": [
      "CPU times: user 8.12 s, sys: 5.75 s, total: 13.9 s\n",
      "Wall time: 23.2 s\n"
     ]
    }
   ],
   "source": [
    "%%time\n",
    "import polars as pl\n",
    "df_list = []\n",
    "for i in range(1):\n",
    "    df = pl.read_parquet(f\"s3://amazon-reviews-pds/parquet/product_category=Books/part-0000{i}-495c48e6-96d6-4650-aa65-3c36a3516ddd.c000.snappy.parquet\")\n",
    "    df_list.append(df)\n",
    "df_pl_reviews = pl.concat(df_list)"
   ]
  },
  {
   "cell_type": "markdown",
   "id": "fbe38b24-55a9-456a-880c-06b1df6f2bb3",
   "metadata": {},
   "source": [
    "Shape of the dataframe, more than 2 million rows containing text data and 15 columns per row."
   ]
  },
  {
   "cell_type": "code",
   "execution_count": 23,
   "id": "bfeb2c06-9f48-454d-b9ea-1c83d90adeed",
   "metadata": {
    "tags": []
   },
   "outputs": [
    {
     "name": "stdout",
     "output_type": "stream",
     "text": [
      "df_pl_reviews shape=2074682x15\n",
      "CPU times: user 1.09 ms, sys: 0 ns, total: 1.09 ms\n",
      "Wall time: 738 µs\n"
     ]
    }
   ],
   "source": [
    "%%time\n",
    "q = (\n",
    "        df_pl_reviews\n",
    "        .lazy()\n",
    "        .select(\n",
    "            pl.count()\n",
    "    )    \n",
    ")\n",
    "count = q.collect()[0,0]\n",
    "\n",
    "print(f\"df_pl_reviews shape={count}x{df_pl_reviews.width}\")"
   ]
  },
  {
   "cell_type": "code",
   "execution_count": 24,
   "id": "d2021cda-31da-4a5b-9ee9-22940cc66185",
   "metadata": {
    "tags": []
   },
   "outputs": [
    {
     "data": {
      "text/html": [
       "<div><style>\n",
       ".dataframe > thead > tr > th,\n",
       ".dataframe > tbody > tr > td {\n",
       "  text-align: right;\n",
       "}\n",
       "</style>\n",
       "<small>shape: (5, 15)</small><table border=\"1\" class=\"dataframe\"><thead><tr><th>marketplace</th><th>customer_id</th><th>review_id</th><th>product_id</th><th>product_parent</th><th>product_title</th><th>star_rating</th><th>helpful_votes</th><th>total_votes</th><th>vine</th><th>verified_purchase</th><th>review_headline</th><th>review_body</th><th>review_date</th><th>year</th></tr><tr><td>str</td><td>str</td><td>str</td><td>str</td><td>str</td><td>str</td><td>i32</td><td>i32</td><td>i32</td><td>str</td><td>str</td><td>str</td><td>str</td><td>date</td><td>i32</td></tr></thead><tbody><tr><td>&quot;US&quot;</td><td>&quot;15444933&quot;</td><td>&quot;R1WWG70WK9VUCH…</td><td>&quot;1848192576&quot;</td><td>&quot;835940987&quot;</td><td>&quot;Standing Qigon…</td><td>5</td><td>9</td><td>10</td><td>&quot;N&quot;</td><td>&quot;Y&quot;</td><td>&quot;Informative AN…</td><td>&quot;After attendin…</td><td>2015-05-02</td><td>2015</td></tr><tr><td>&quot;US&quot;</td><td>&quot;20595117&quot;</td><td>&quot;R1EQ3POS0RIOD5…</td><td>&quot;145162445X&quot;</td><td>&quot;574044348&quot;</td><td>&quot;A Universe fro…</td><td>4</td><td>4</td><td>7</td><td>&quot;N&quot;</td><td>&quot;N&quot;</td><td>&quot;Between &#x27;Nothi…</td><td>&quot;Krauss traces …</td><td>2012-06-29</td><td>2012</td></tr><tr><td>&quot;US&quot;</td><td>&quot;52925878&quot;</td><td>&quot;R10SRJA4VVGUBD…</td><td>&quot;055341805X&quot;</td><td>&quot;846590203&quot;</td><td>&quot;Hyacinth Girls…</td><td>4</td><td>0</td><td>0</td><td>&quot;Y&quot;</td><td>&quot;N&quot;</td><td>&quot;Mysteries upon…</td><td>&quot;Rebecca, a den…</td><td>2015-05-02</td><td>2015</td></tr><tr><td>&quot;US&quot;</td><td>&quot;40062567&quot;</td><td>&quot;RD3268X41GM7U&quot;</td><td>&quot;0425263908&quot;</td><td>&quot;119148606&quot;</td><td>&quot;Bared to You&quot;</td><td>5</td><td>1</td><td>1</td><td>&quot;N&quot;</td><td>&quot;N&quot;</td><td>&quot;&quot;RAW, STEAMY, …</td><td>&quot;\\\\&quot;BARED TO YO…</td><td>2012-06-29</td><td>2012</td></tr><tr><td>&quot;US&quot;</td><td>&quot;47221489&quot;</td><td>&quot;R3KGQL5X5BSJE1…</td><td>&quot;1416556141&quot;</td><td>&quot;987400385&quot;</td><td>&quot;Healer: A Nove…</td><td>5</td><td>0</td><td>0</td><td>&quot;N&quot;</td><td>&quot;Y&quot;</td><td>&quot;Well written s…</td><td>&quot;Good character…</td><td>2015-05-02</td><td>2015</td></tr></tbody></table></div>"
      ],
      "text/plain": [
       "shape: (5, 15)\n",
       "┌───────────┬───────────┬─────────────┬──────────┬───┬────────────┬───────────┬─────────────┬──────┐\n",
       "│ marketpla ┆ customer_ ┆ review_id   ┆ product_ ┆ … ┆ review_hea ┆ review_bo ┆ review_date ┆ year │\n",
       "│ ce        ┆ id        ┆ ---         ┆ id       ┆   ┆ dline      ┆ dy        ┆ ---         ┆ ---  │\n",
       "│ ---       ┆ ---       ┆ str         ┆ ---      ┆   ┆ ---        ┆ ---       ┆ date        ┆ i32  │\n",
       "│ str       ┆ str       ┆             ┆ str      ┆   ┆ str        ┆ str       ┆             ┆      │\n",
       "╞═══════════╪═══════════╪═════════════╪══════════╪═══╪════════════╪═══════════╪═════════════╪══════╡\n",
       "│ US        ┆ 15444933  ┆ R1WWG70WK9V ┆ 18481925 ┆ … ┆ Informativ ┆ After     ┆ 2015-05-02  ┆ 2015 │\n",
       "│           ┆           ┆ UCH         ┆ 76       ┆   ┆ e AND inte ┆ attending ┆             ┆      │\n",
       "│           ┆           ┆             ┆          ┆   ┆ resting!   ┆ a few     ┆             ┆      │\n",
       "│           ┆           ┆             ┆          ┆   ┆            ┆ Qigong    ┆             ┆      │\n",
       "│           ┆           ┆             ┆          ┆   ┆            ┆ cla…      ┆             ┆      │\n",
       "│ US        ┆ 20595117  ┆ R1EQ3POS0RI ┆ 14516244 ┆ … ┆ Between    ┆ Krauss    ┆ 2012-06-29  ┆ 2012 │\n",
       "│           ┆           ┆ OD5         ┆ 5X       ┆   ┆ 'Nothing'  ┆ traces    ┆             ┆      │\n",
       "│           ┆           ┆             ┆          ┆   ┆ and        ┆ the remar ┆             ┆      │\n",
       "│           ┆           ┆             ┆          ┆   ┆ 'Nothing'  ┆ kable     ┆             ┆      │\n",
       "│           ┆           ┆             ┆          ┆   ┆ …          ┆ tra…      ┆             ┆      │\n",
       "│ US        ┆ 52925878  ┆ R10SRJA4VVG ┆ 05534180 ┆ … ┆ Mysteries  ┆ Rebecca,  ┆ 2015-05-02  ┆ 2015 │\n",
       "│           ┆           ┆ UBD         ┆ 5X       ┆   ┆ upon       ┆ a dental  ┆             ┆      │\n",
       "│           ┆           ┆             ┆          ┆   ┆ mysteries  ┆ hygienist ┆             ┆      │\n",
       "│           ┆           ┆             ┆          ┆   ┆            ┆ , rec…    ┆             ┆      │\n",
       "│ US        ┆ 40062567  ┆ RD3268X41GM ┆ 04252639 ┆ … ┆ \"RAW,      ┆ \\\\\"BARED  ┆ 2012-06-29  ┆ 2012 │\n",
       "│           ┆           ┆ 7U          ┆ 08       ┆   ┆ STEAMY,    ┆ TO YOU\\\\\" ┆             ┆      │\n",
       "│           ┆           ┆             ┆          ┆   ┆ HYPNOTIC!\" ┆ is a      ┆             ┆      │\n",
       "│           ┆           ┆             ┆          ┆   ┆            ┆ sizzling… ┆             ┆      │\n",
       "│ US        ┆ 47221489  ┆ R3KGQL5X5BS ┆ 14165561 ┆ … ┆ Well       ┆ Good char ┆ 2015-05-02  ┆ 2015 │\n",
       "│           ┆           ┆ JE1         ┆ 41       ┆   ┆ written    ┆ acters    ┆             ┆      │\n",
       "│           ┆           ┆             ┆          ┆   ┆ story      ┆ and plot  ┆             ┆      │\n",
       "│           ┆           ┆             ┆          ┆   ┆            ┆ line. I…  ┆             ┆      │\n",
       "└───────────┴───────────┴─────────────┴──────────┴───┴────────────┴───────────┴─────────────┴──────┘"
      ]
     },
     "metadata": {},
     "output_type": "display_data"
    }
   ],
   "source": [
    "display(df_pl_reviews.head())"
   ]
  },
  {
   "cell_type": "markdown",
   "id": "8a090df0-2051-42a2-93bc-69aa52a0d068",
   "metadata": {},
   "source": [
    "### Regex based filtering\n",
    "\n",
    "Lets filter for all the rows of data that contain some words of interest. We use the `product_title` and `review_body` fields for this. We then tokenized these fields in the filtered dataframe to find out the number of words in these fields."
   ]
  },
  {
   "cell_type": "code",
   "execution_count": 25,
   "id": "c082bee0-5cff-4776-a1bd-92b849ae1818",
   "metadata": {
    "tags": []
   },
   "outputs": [
    {
     "name": "stdout",
     "output_type": "stream",
     "text": [
      "shape of result dataframe = (133784, 10)\n",
      "CPU times: user 3.52 s, sys: 833 ms, total: 4.35 s\n",
      "Wall time: 3.73 s\n"
     ]
    },
    {
     "data": {
      "text/html": [
       "<div><style>\n",
       ".dataframe > thead > tr > th,\n",
       ".dataframe > tbody > tr > td {\n",
       "  text-align: right;\n",
       "}\n",
       "</style>\n",
       "<small>shape: (5, 10)</small><table border=\"1\" class=\"dataframe\"><thead><tr><th>review_date</th><th>year</th><th>product_title</th><th>product_title_tokens</th><th>product_title_tokens_length</th><th>review_body</th><th>review_body_tokens</th><th>review_body_tokens_length</th><th>star_rating</th><th>total_votes</th></tr><tr><td>date</td><td>i32</td><td>str</td><td>list[str]</td><td>u32</td><td>str</td><td>list[str]</td><td>u32</td><td>i32</td><td>i32</td></tr></thead><tbody><tr><td>2015-05-02</td><td>2015</td><td>&quot;Standing Qigon…</td><td>[&quot;Standing&quot;, &quot;Qigong&quot;, … &quot;Zhuang&quot;]</td><td>10</td><td>&quot;After attendin…</td><td>[&quot;After&quot;, &quot;attending&quot;, … &quot;it.&quot;]</td><td>159</td><td>5</td><td>10</td></tr><tr><td>2015-05-02</td><td>2015</td><td>&quot;Hyacinth Girls…</td><td>[&quot;Hyacinth&quot;, &quot;Girls:&quot;, … &quot;Novel&quot;]</td><td>4</td><td>&quot;Rebecca, a den…</td><td>[&quot;Rebecca,&quot;, &quot;a&quot;, … &quot;Girls.&amp;#34;&quot;]</td><td>316</td><td>4</td><td>0</td></tr><tr><td>2012-06-29</td><td>2012</td><td>&quot;The Missionary…</td><td>[&quot;The&quot;, &quot;Missionary&quot;, … &quot;Practice&quot;]</td><td>9</td><td>&quot;This book was …</td><td>[&quot;This&quot;, &quot;book&quot;, … &quot;section.&quot;]</td><td>548</td><td>4</td><td>7</td></tr><tr><td>2012-06-29</td><td>2012</td><td>&quot;Wheat Belly: L…</td><td>[&quot;Wheat&quot;, &quot;Belly:&quot;, … &quot;Health&quot;]</td><td>15</td><td>&quot;This is an exc…</td><td>[&quot;This&quot;, &quot;is&quot;, … &quot;off!&quot;]</td><td>125</td><td>5</td><td>1</td></tr><tr><td>2012-06-29</td><td>2012</td><td>&quot;Consciousness …</td><td>[&quot;Consciousness&quot;, &quot;Beyond&quot;, … &quot;Experience&quot;]</td><td>9</td><td>&quot;Consciousness …</td><td>[&quot;Consciousness&quot;, &quot;Beyond&quot;, … &quot;Spirit&quot;]</td><td>506</td><td>5</td><td>0</td></tr></tbody></table></div>"
      ],
      "text/plain": [
       "shape: (5, 10)\n",
       "┌───────────┬──────┬────────────┬────────────┬───┬────────────┬────────────┬───────────┬───────────┐\n",
       "│ review_da ┆ year ┆ product_ti ┆ product_ti ┆ … ┆ review_bod ┆ review_bod ┆ star_rati ┆ total_vot │\n",
       "│ te        ┆ ---  ┆ tle        ┆ tle_tokens ┆   ┆ y_tokens   ┆ y_tokens_l ┆ ng        ┆ es        │\n",
       "│ ---       ┆ i32  ┆ ---        ┆ ---        ┆   ┆ ---        ┆ ength      ┆ ---       ┆ ---       │\n",
       "│ date      ┆      ┆ str        ┆ list[str]  ┆   ┆ list[str]  ┆ ---        ┆ i32       ┆ i32       │\n",
       "│           ┆      ┆            ┆            ┆   ┆            ┆ u32        ┆           ┆           │\n",
       "╞═══════════╪══════╪════════════╪════════════╪═══╪════════════╪════════════╪═══════════╪═══════════╡\n",
       "│ 2015-05-0 ┆ 2015 ┆ Standing   ┆ [\"Standing ┆ … ┆ [\"After\",  ┆ 159        ┆ 5         ┆ 10        │\n",
       "│ 2         ┆      ┆ Qigong for ┆ \",         ┆   ┆ \"attending ┆            ┆           ┆           │\n",
       "│           ┆      ┆ Health and ┆ \"Qigong\",  ┆   ┆ \", …       ┆            ┆           ┆           │\n",
       "│           ┆      ┆ M…         ┆ … \"Zhuang… ┆   ┆ \"it.\"]     ┆            ┆           ┆           │\n",
       "│ 2015-05-0 ┆ 2015 ┆ Hyacinth   ┆ [\"Hyacinth ┆ … ┆ [\"Rebecca, ┆ 316        ┆ 4         ┆ 0         │\n",
       "│ 2         ┆      ┆ Girls: A   ┆ \",         ┆   ┆ \", \"a\", …  ┆            ┆           ┆           │\n",
       "│           ┆      ┆ Novel      ┆ \"Girls:\",  ┆   ┆ \"Girls.&#3 ┆            ┆           ┆           │\n",
       "│           ┆      ┆            ┆ … \"Novel\"… ┆   ┆ 4;…        ┆            ┆           ┆           │\n",
       "│ 2012-06-2 ┆ 2012 ┆ The        ┆ [\"The\",    ┆ … ┆ [\"This\",   ┆ 548        ┆ 4         ┆ 7         │\n",
       "│ 9         ┆      ┆ Missionary ┆ \"Missionar ┆   ┆ \"book\", …  ┆            ┆           ┆           │\n",
       "│           ┆      ┆ Position:  ┆ y\", …      ┆   ┆ \"section.\" ┆            ┆           ┆           │\n",
       "│           ┆      ┆ Mother …   ┆ \"Practic…  ┆   ┆ ]          ┆            ┆           ┆           │\n",
       "│ 2012-06-2 ┆ 2012 ┆ Wheat      ┆ [\"Wheat\",  ┆ … ┆ [\"This\",   ┆ 125        ┆ 5         ┆ 1         │\n",
       "│ 9         ┆      ┆ Belly:     ┆ \"Belly:\",  ┆   ┆ \"is\", …    ┆            ┆           ┆           │\n",
       "│           ┆      ┆ Lose the   ┆ …          ┆   ┆ \"off!\"]    ┆            ┆           ┆           │\n",
       "│           ┆      ┆ Wheat,     ┆ \"Health\"]  ┆   ┆            ┆            ┆           ┆           │\n",
       "│           ┆      ┆ Los…       ┆            ┆   ┆            ┆            ┆           ┆           │\n",
       "│ 2012-06-2 ┆ 2012 ┆ Consciousn ┆ [\"Consciou ┆ … ┆ [\"Consciou ┆ 506        ┆ 5         ┆ 0         │\n",
       "│ 9         ┆      ┆ ess Beyond ┆ sness\",    ┆   ┆ sness\",    ┆            ┆           ┆           │\n",
       "│           ┆      ┆ Life: The  ┆ \"Beyond\",  ┆   ┆ \"Beyond\",  ┆            ┆           ┆           │\n",
       "│           ┆      ┆ S…         ┆ … \"E…      ┆   ┆ … \"S…      ┆            ┆           ┆           │\n",
       "└───────────┴──────┴────────────┴────────────┴───┴────────────┴────────────┴───────────┴───────────┘"
      ]
     },
     "execution_count": 25,
     "metadata": {},
     "output_type": "execute_result"
    }
   ],
   "source": [
    "%%time\n",
    "import re\n",
    "topic_regex = r\"(?i)nature|health|fitness|consciousness|diet|exercise\"\n",
    "q = (\n",
    "        df_pl_reviews\n",
    "        .lazy()\n",
    "        .filter(\n",
    "          pl.col('product_title').str.contains(topic_regex) |\n",
    "            pl.col('review_body').str.contains(topic_regex)\n",
    "        )\n",
    "        .with_columns(pl.col(\"product_title\").str.split(by=\" \").suffix('_tokens'))\n",
    "        .with_columns(pl.col(\"review_body\").str.split(by=\" \").suffix('_tokens'))\n",
    "        .select(\n",
    "            pl.col(\"review_date\"),\n",
    "            pl.col(\"year\"),\n",
    "            pl.col(\"product_title\"),\n",
    "            pl.col(\"product_title_tokens\"),            \n",
    "            pl.col(\"product_title_tokens\").arr.lengths().suffix(\"_length\"),            \n",
    "            pl.col(\"review_body\"),\n",
    "            pl.col(\"review_body_tokens\"),\n",
    "            pl.col(\"review_body_tokens\").arr.lengths().suffix(\"_length\"),\n",
    "            pl.col(\"star_rating\"),\n",
    "            pl.col(\"total_votes\")\n",
    "        )\n",
    "    )\n",
    "df_result = q.collect()\n",
    "print(f\"shape of result dataframe = {df_result.shape}\")\n",
    "df_result.head()"
   ]
  },
  {
   "cell_type": "markdown",
   "id": "dd477c8d-03a8-4275-a284-6925a93bdb0a",
   "metadata": {},
   "source": [
    "Now we exclude the stopwords (using the `stopwords` list from NLTK) and then create a count of words using the tokenized `product_title_token` field. We use the `explode` function to convert the token list into a rows."
   ]
  },
  {
   "cell_type": "code",
   "execution_count": 26,
   "id": "5d0ad5be-7073-4913-96fb-9c7164eddf60",
   "metadata": {
    "tags": []
   },
   "outputs": [
    {
     "name": "stdout",
     "output_type": "stream",
     "text": [
      "CPU times: user 8.93 s, sys: 12.9 s, total: 21.8 s\n",
      "Wall time: 9.68 s\n"
     ]
    },
    {
     "data": {
      "text/html": [
       "<div><style>\n",
       ".dataframe > thead > tr > th,\n",
       ".dataframe > tbody > tr > td {\n",
       "  text-align: right;\n",
       "}\n",
       "</style>\n",
       "<small>shape: (72_547, 2)</small><table border=\"1\" class=\"dataframe\"><thead><tr><th>product_title_tokens</th><th>count</th></tr><tr><td>str</td><td>u32</td></tr></thead><tbody><tr><td>&quot;health&quot;</td><td>11466</td></tr><tr><td>&quot;guide&quot;</td><td>9649</td></tr><tr><td>&quot;healthy&quot;</td><td>6632</td></tr><tr><td>&quot;life&quot;</td><td>6230</td></tr><tr><td>&quot;&amp;&quot;</td><td>6226</td></tr><tr><td>&quot;diet&quot;</td><td>5672</td></tr><tr><td>&quot;lose&quot;</td><td>5369</td></tr><tr><td>&quot;recipes&quot;</td><td>5348</td></tr><tr><td>&quot;weight&quot;</td><td>5183</td></tr><tr><td>&quot;new&quot;</td><td>4189</td></tr><tr><td>&quot;diet:&quot;</td><td>4162</td></tr><tr><td>&quot;book&quot;</td><td>4096</td></tr><tr><td>&hellip;</td><td>&hellip;</td></tr><tr><td>&quot;(muswell&quot;</td><td>1</td></tr><tr><td>&quot;pilots:&quot;</td><td>1</td></tr><tr><td>&quot;ditching&quot;</td><td>1</td></tr><tr><td>&quot;butterfly:the&quot;</td><td>1</td></tr><tr><td>&quot;overzealous&quot;</td><td>1</td></tr><tr><td>&quot;chant&quot;</td><td>1</td></tr><tr><td>&quot;revista-&quot;</td><td>1</td></tr><tr><td>&quot;walnut&quot;</td><td>1</td></tr><tr><td>&quot;powerpoint®,&quot;</td><td>1</td></tr><tr><td>&quot;amos:&quot;</td><td>1</td></tr><tr><td>&quot;(boa&quot;</td><td>1</td></tr><tr><td>&quot;dancin&#x27;&quot;</td><td>1</td></tr></tbody></table></div>"
      ],
      "text/plain": [
       "shape: (72_547, 2)\n",
       "┌──────────────────────┬───────┐\n",
       "│ product_title_tokens ┆ count │\n",
       "│ ---                  ┆ ---   │\n",
       "│ str                  ┆ u32   │\n",
       "╞══════════════════════╪═══════╡\n",
       "│ health               ┆ 11466 │\n",
       "│ guide                ┆ 9649  │\n",
       "│ healthy              ┆ 6632  │\n",
       "│ life                 ┆ 6230  │\n",
       "│ …                    ┆ …     │\n",
       "│ powerpoint®,         ┆ 1     │\n",
       "│ amos:                ┆ 1     │\n",
       "│ (boa                 ┆ 1     │\n",
       "│ dancin'              ┆ 1     │\n",
       "└──────────────────────┴───────┘"
      ]
     },
     "execution_count": 26,
     "metadata": {},
     "output_type": "execute_result"
    }
   ],
   "source": [
    "%%time\n",
    "q = (\n",
    "    df_pl_reviews\n",
    "    .sample(fraction=1)\n",
    "    .lazy()        \n",
    "    .filter(\n",
    "          pl.col('product_title').str.contains(topic_regex) |\n",
    "            pl.col('review_body').str.contains(topic_regex)\n",
    "    )    \n",
    "    .with_columns(pl.col(\"product_title\").str.split(by=\" \").suffix('_tokens'))\n",
    "    .explode(\"product_title_tokens\")\n",
    "    .with_columns(pl.col(\"product_title_tokens\").str.to_lowercase())\n",
    "    .filter(pl.col(\"product_title_tokens\").is_in(stopwords).is_not())\n",
    "    .groupby([\"product_title_tokens\"])\n",
    "        .agg(\n",
    "         [\n",
    "            pl.count(),            \n",
    "         ]\n",
    "        )\n",
    "         .sort([\"count\"], descending=True)\n",
    ")\n",
    "q.collect()"
   ]
  },
  {
   "cell_type": "markdown",
   "id": "6f52b7e5-32fa-42d1-9d62-23511a5eecda",
   "metadata": {
    "tags": []
   },
   "source": [
    "---\n",
    "\n",
    "## Conclusion\n",
    "\n",
    "Polars is still faster than Pandas 2.0 and allows us to write expressive code that can be optimized."
   ]
  }
 ],
 "metadata": {
  "kernelspec": {
   "display_name": "conda_python3",
   "language": "python",
   "name": "conda_python3"
  },
  "language_info": {
   "codemirror_mode": {
    "name": "ipython",
    "version": 3
   },
   "file_extension": ".py",
   "mimetype": "text/x-python",
   "name": "python",
   "nbconvert_exporter": "python",
   "pygments_lexer": "ipython3",
   "version": "3.10.8"
  }
 },
 "nbformat": 4,
 "nbformat_minor": 5
}
